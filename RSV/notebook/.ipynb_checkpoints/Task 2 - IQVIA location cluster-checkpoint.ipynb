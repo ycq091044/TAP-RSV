{
 "cells": [
  {
   "cell_type": "markdown",
   "id": "9d6f4eff",
   "metadata": {},
   "source": [
    "### Dependency"
   ]
  },
  {
   "cell_type": "code",
   "execution_count": 1,
   "id": "d6ef671f",
   "metadata": {},
   "outputs": [],
   "source": [
    "import pickle\n",
    "import numpy as np\n",
    "import pandas as pd\n",
    "import json\n",
    "from tqdm import tqdm\n",
    "import matplotlib.pyplot as plt\n",
    "import os\n",
    "import torch"
   ]
  },
  {
   "cell_type": "markdown",
   "id": "5a8919f7",
   "metadata": {},
   "source": [
    "### load claims and zip2fips"
   ]
  },
  {
   "cell_type": "code",
   "execution_count": 2,
   "id": "173f9f17",
   "metadata": {},
   "outputs": [],
   "source": [
    "disease_data = pd.read_csv(\"../data/claim.csv\")\n",
    "# zip2fips = json.load(open(\"zip2fips.json\", 'r'))\n",
    "zip2fips_data = pd.read_csv(\"../data/zip2fips.csv\")"
   ]
  },
  {
   "cell_type": "code",
   "execution_count": 3,
   "id": "8db78536",
   "metadata": {},
   "outputs": [
    {
     "name": "stderr",
     "output_type": "stream",
     "text": [
      "100%|███████████████████████████████████████████████████████████████████████████████████████████████████████████████████████████████████████████████████████████████████████████████████████████████████████████| 41877/41877 [00:00<00:00, 779587.09it/s]\n"
     ]
    }
   ],
   "source": [
    "zip2fips = {}\n",
    "for k, v in tqdm(zip2fips_data[[\"zipcode\", \"FIPS\"]].values):\n",
    "    if v == v:\n",
    "        zip2fips[int(k)] = int(v)"
   ]
  },
  {
   "cell_type": "code",
   "execution_count": 6,
   "id": "3f8c0bb9",
   "metadata": {},
   "outputs": [
    {
     "data": {
      "text/html": [
       "<div>\n",
       "<style scoped>\n",
       "    .dataframe tbody tr th:only-of-type {\n",
       "        vertical-align: middle;\n",
       "    }\n",
       "\n",
       "    .dataframe tbody tr th {\n",
       "        vertical-align: top;\n",
       "    }\n",
       "\n",
       "    .dataframe thead th {\n",
       "        text-align: right;\n",
       "    }\n",
       "</style>\n",
       "<table border=\"1\" class=\"dataframe\">\n",
       "  <thead>\n",
       "    <tr style=\"text-align: right;\">\n",
       "      <th></th>\n",
       "      <th>Unnamed: 0</th>\n",
       "      <th>date</th>\n",
       "      <th>zip</th>\n",
       "      <th>n_visits</th>\n",
       "      <th>Adenovirus</th>\n",
       "      <th>Asthma</th>\n",
       "      <th>Bronchiolitis</th>\n",
       "      <th>COVID</th>\n",
       "      <th>Cold</th>\n",
       "      <th>Coronavirus</th>\n",
       "      <th>...</th>\n",
       "      <th>Hypoxia</th>\n",
       "      <th>Parainfluenza</th>\n",
       "      <th>RSV</th>\n",
       "      <th>Respiratory distress</th>\n",
       "      <th>Respiratory failure</th>\n",
       "      <th>Rhinitis</th>\n",
       "      <th>Rhinovirus</th>\n",
       "      <th>Status Asthmaticus</th>\n",
       "      <th>URI</th>\n",
       "      <th>Viral pneumonia</th>\n",
       "    </tr>\n",
       "  </thead>\n",
       "  <tbody>\n",
       "    <tr>\n",
       "      <th>0</th>\n",
       "      <td>0</td>\n",
       "      <td>2017-12-30</td>\n",
       "      <td>631</td>\n",
       "      <td>2</td>\n",
       "      <td>0</td>\n",
       "      <td>0</td>\n",
       "      <td>0</td>\n",
       "      <td>0</td>\n",
       "      <td>1</td>\n",
       "      <td>0</td>\n",
       "      <td>...</td>\n",
       "      <td>0</td>\n",
       "      <td>0</td>\n",
       "      <td>0</td>\n",
       "      <td>0</td>\n",
       "      <td>0</td>\n",
       "      <td>1</td>\n",
       "      <td>0</td>\n",
       "      <td>0</td>\n",
       "      <td>0</td>\n",
       "      <td>0</td>\n",
       "    </tr>\n",
       "    <tr>\n",
       "      <th>1</th>\n",
       "      <td>1</td>\n",
       "      <td>2017-12-30</td>\n",
       "      <td>637</td>\n",
       "      <td>4</td>\n",
       "      <td>0</td>\n",
       "      <td>0</td>\n",
       "      <td>1</td>\n",
       "      <td>0</td>\n",
       "      <td>0</td>\n",
       "      <td>0</td>\n",
       "      <td>...</td>\n",
       "      <td>0</td>\n",
       "      <td>0</td>\n",
       "      <td>0</td>\n",
       "      <td>0</td>\n",
       "      <td>0</td>\n",
       "      <td>0</td>\n",
       "      <td>0</td>\n",
       "      <td>0</td>\n",
       "      <td>3</td>\n",
       "      <td>0</td>\n",
       "    </tr>\n",
       "    <tr>\n",
       "      <th>2</th>\n",
       "      <td>2</td>\n",
       "      <td>2017-12-30</td>\n",
       "      <td>656</td>\n",
       "      <td>2</td>\n",
       "      <td>0</td>\n",
       "      <td>0</td>\n",
       "      <td>0</td>\n",
       "      <td>0</td>\n",
       "      <td>0</td>\n",
       "      <td>0</td>\n",
       "      <td>...</td>\n",
       "      <td>0</td>\n",
       "      <td>0</td>\n",
       "      <td>0</td>\n",
       "      <td>0</td>\n",
       "      <td>0</td>\n",
       "      <td>0</td>\n",
       "      <td>0</td>\n",
       "      <td>0</td>\n",
       "      <td>2</td>\n",
       "      <td>0</td>\n",
       "    </tr>\n",
       "    <tr>\n",
       "      <th>3</th>\n",
       "      <td>3</td>\n",
       "      <td>2017-12-30</td>\n",
       "      <td>716</td>\n",
       "      <td>2</td>\n",
       "      <td>0</td>\n",
       "      <td>0</td>\n",
       "      <td>0</td>\n",
       "      <td>0</td>\n",
       "      <td>0</td>\n",
       "      <td>0</td>\n",
       "      <td>...</td>\n",
       "      <td>0</td>\n",
       "      <td>0</td>\n",
       "      <td>0</td>\n",
       "      <td>0</td>\n",
       "      <td>0</td>\n",
       "      <td>0</td>\n",
       "      <td>0</td>\n",
       "      <td>0</td>\n",
       "      <td>2</td>\n",
       "      <td>0</td>\n",
       "    </tr>\n",
       "    <tr>\n",
       "      <th>4</th>\n",
       "      <td>4</td>\n",
       "      <td>2017-12-30</td>\n",
       "      <td>717</td>\n",
       "      <td>1</td>\n",
       "      <td>0</td>\n",
       "      <td>0</td>\n",
       "      <td>0</td>\n",
       "      <td>0</td>\n",
       "      <td>1</td>\n",
       "      <td>0</td>\n",
       "      <td>...</td>\n",
       "      <td>0</td>\n",
       "      <td>0</td>\n",
       "      <td>0</td>\n",
       "      <td>0</td>\n",
       "      <td>0</td>\n",
       "      <td>0</td>\n",
       "      <td>0</td>\n",
       "      <td>0</td>\n",
       "      <td>0</td>\n",
       "      <td>0</td>\n",
       "    </tr>\n",
       "  </tbody>\n",
       "</table>\n",
       "<p>5 rows × 23 columns</p>\n",
       "</div>"
      ],
      "text/plain": [
       "   Unnamed: 0        date  zip  n_visits  Adenovirus  Asthma  Bronchiolitis  \\\n",
       "0           0  2017-12-30  631         2           0       0              0   \n",
       "1           1  2017-12-30  637         4           0       0              1   \n",
       "2           2  2017-12-30  656         2           0       0              0   \n",
       "3           3  2017-12-30  716         2           0       0              0   \n",
       "4           4  2017-12-30  717         1           0       0              0   \n",
       "\n",
       "   COVID  Cold  Coronavirus  ...  Hypoxia  Parainfluenza  RSV  \\\n",
       "0      0     1            0  ...        0              0    0   \n",
       "1      0     0            0  ...        0              0    0   \n",
       "2      0     0            0  ...        0              0    0   \n",
       "3      0     0            0  ...        0              0    0   \n",
       "4      0     1            0  ...        0              0    0   \n",
       "\n",
       "   Respiratory distress  Respiratory failure  Rhinitis  Rhinovirus  \\\n",
       "0                     0                    0         1           0   \n",
       "1                     0                    0         0           0   \n",
       "2                     0                    0         0           0   \n",
       "3                     0                    0         0           0   \n",
       "4                     0                    0         0           0   \n",
       "\n",
       "   Status Asthmaticus  URI  Viral pneumonia  \n",
       "0                   0    0                0  \n",
       "1                   0    3                0  \n",
       "2                   0    2                0  \n",
       "3                   0    2                0  \n",
       "4                   0    0                0  \n",
       "\n",
       "[5 rows x 23 columns]"
      ]
     },
     "execution_count": 6,
     "metadata": {},
     "output_type": "execute_result"
    }
   ],
   "source": [
    "disease_data.head()"
   ]
  },
  {
   "cell_type": "code",
   "execution_count": 7,
   "id": "dcaeee25",
   "metadata": {},
   "outputs": [
    {
     "data": {
      "text/plain": [
       "Index(['Unnamed: 0', 'date', 'zip', 'n_visits', 'Adenovirus', 'Asthma',\n",
       "       'Bronchiolitis', 'COVID', 'Cold', 'Coronavirus', 'Enterovirus', 'HMPV',\n",
       "       'Hypoxemia', 'Hypoxia', 'Parainfluenza', 'RSV', 'Respiratory distress',\n",
       "       'Respiratory failure', 'Rhinitis', 'Rhinovirus', 'Status Asthmaticus',\n",
       "       'URI', 'Viral pneumonia'],\n",
       "      dtype='object')"
      ]
     },
     "execution_count": 7,
     "metadata": {},
     "output_type": "execute_result"
    }
   ],
   "source": [
    "disease_data.columns"
   ]
  },
  {
   "cell_type": "markdown",
   "id": "f2b16ab7",
   "metadata": {},
   "source": [
    "### get the (county, date, 19 diseases) b_mtx"
   ]
  },
  {
   "cell_type": "code",
   "execution_count": 8,
   "id": "3ecd3318",
   "metadata": {},
   "outputs": [
    {
     "name": "stdout",
     "output_type": "stream",
     "text": [
      "(3150, 1848, 19)\n"
     ]
    }
   ],
   "source": [
    "disease_category = disease_data.columns[4:]\n",
    "date_map = {item: idx for idx, item in enumerate(disease_data.date.unique())}\n",
    "zip_map = {item: idx for idx, item in enumerate(disease_data.zip.unique())}\n",
    "fips_concern = np.unique([zip2fips.get(zipcode, -1) for zipcode in list(zip_map.keys())]).tolist()\n",
    "fips_concern.remove(-1)\n",
    "fips_map = {item: idx for idx, item in enumerate(fips_concern)}\n",
    "\n",
    "b_mtx = np.zeros((len(fips_map), len(date_map), len(disease_category)))\n",
    "print (b_mtx.shape)"
   ]
  },
  {
   "cell_type": "code",
   "execution_count": 9,
   "id": "afcf9cba",
   "metadata": {},
   "outputs": [
    {
     "name": "stderr",
     "output_type": "stream",
     "text": [
      "100%|█████████████████████████████████████████████████████████████████████████████████████████████████████████████████████████████████████████████████████████████████████████████████████████████████████| 12325169/12325169 [01:28<00:00, 139873.89it/s]\n"
     ]
    }
   ],
   "source": [
    "for line in tqdm(disease_data.values):\n",
    "    tmp_fips = zip2fips.get(line[2], -1)\n",
    "    if tmp_fips == -1: continue\n",
    "    \n",
    "    for j in range(len(disease_category)):\n",
    "        b_mtx[fips_map[tmp_fips], date_map[line[1]], j] = line[4 + j]"
   ]
  },
  {
   "cell_type": "code",
   "execution_count": 12,
   "id": "720332cc",
   "metadata": {},
   "outputs": [],
   "source": [
    "root = \"../data\"\n",
    "fips_standard = pickle.load(open(os.path.join(root, \"fips.pkl\"), \"rb\"))\n",
    "county_tensor = pickle.load(open(os.path.join(root, \"county.pkl\"), \"rb\"))\n",
    "feat_name_HOIST = pickle.load(open(os.path.join(root, \"feat_name.pkl\"), \"rb\"))"
   ]
  },
  {
   "cell_type": "code",
   "execution_count": 13,
   "id": "984ce245",
   "metadata": {},
   "outputs": [
    {
     "data": {
      "text/plain": [
       "('2020-08-01', '2022-05-01')"
      ]
     },
     "execution_count": 13,
     "metadata": {},
     "output_type": "execute_result"
    }
   ],
   "source": [
    "# static feature ranges (it is ok, non-overlap with our prediction window)\n",
    "min(feat_name_HOIST['date']), max(feat_name_HOIST['date'])"
   ]
  },
  {
   "cell_type": "code",
   "execution_count": 14,
   "id": "fd61147b",
   "metadata": {},
   "outputs": [
    {
     "name": "stdout",
     "output_type": "stream",
     "text": [
      "(2334, 1848, 19)\n"
     ]
    }
   ],
   "source": [
    "# get the intersection fips\n",
    "fips_new_idx = []\n",
    "int_fips_map = list(map(int, fips_map.keys()))\n",
    "\n",
    "for idx, fips in enumerate(fips_standard):\n",
    "    if fips in int_fips_map:\n",
    "        fips_new_idx.append(int_fips_map.index(fips))\n",
    "    else:\n",
    "        fips_new_idx.append(0)\n",
    "    \n",
    "# the fips (dim 1) of this bron matchs with Junyi's 2334 fips\n",
    "bron = b_mtx[fips_new_idx]\n",
    "print (bron.shape)\n",
    "\n",
    "# aggregate the date into weeks\n",
    "bron = np.diff(np.concatenate([np.zeros((bron.shape[0], 1, bron.shape[2])), np.cumsum(bron, 1)], 1)[:, ::7], axis=1)\n",
    "weeks = list(date_map.keys())[::7]\n"
   ]
  },
  {
   "cell_type": "markdown",
   "id": "0a810105",
   "metadata": {},
   "source": [
    "### final processed data"
   ]
  },
  {
   "cell_type": "code",
   "execution_count": 15,
   "id": "2895ea8d",
   "metadata": {},
   "outputs": [
    {
     "name": "stdout",
     "output_type": "stream",
     "text": [
      "264\n",
      "(2334, 264, 19)\n"
     ]
    }
   ],
   "source": [
    "print (len(weeks))\n",
    "print (bron.shape)"
   ]
  },
  {
   "cell_type": "markdown",
   "id": "2466e61b",
   "metadata": {},
   "source": [
    "### tensor factorization tool"
   ]
  },
  {
   "cell_type": "code",
   "execution_count": 27,
   "id": "b9c2fbd1",
   "metadata": {},
   "outputs": [],
   "source": [
    "def optimize(A, B, D, reg=1e-6):\n",
    "    u = torch.linalg.solve(A + reg * D, B)\n",
    "    return u\n",
    "\n",
    "def initialize(T, R, device):\n",
    "    return *[torch.rand(I, R).to(device) for I in T.shape], torch.eye(R).to(device)\n",
    "\n",
    "def NTF_2d(T, A1, A2, D, iteration=200, reg=1e-3, verbose=True):\n",
    "    interval = iteration // 10\n",
    "    for i in range(iteration):\n",
    "        tmp = A2.T@A2\n",
    "#         A1 = optimize(A2.T@A2 + reg * torch.ones_like(tmp), torch.einsum('ij,jr->ri',T,A2), D).T\n",
    "        A1 = optimize(tmp, torch.einsum('ij,jr->ri',T,A2), D).T\n",
    "        A1 = torch.clip(A1, min=0)\n",
    "        A1 -= A1.max(1)[0].reshape(-1, 1) * reg * (A1 == np.abs(A1)) * torch.ones_like(A1)\n",
    "        A1 = torch.clip(A1, min=1e-8)\n",
    "        A2 = optimize(A1.T@A1, torch.einsum('ij,ir->rj',T,A1), D).T\n",
    "        A2 = torch.clip(A2, min=1e-8)\n",
    "        \n",
    "        scale1 = torch.pow(torch.pow(A1, 2).sum(0), 0.5)\n",
    "        scale2 = torch.pow(torch.pow(A2, 2).sum(0), 0.5)\n",
    "        scale = torch.pow((scale1 * scale2), 0.5)\n",
    "        \n",
    "        A1 = A1 / scale1.reshape(1, -1) * scale.reshape(1, -1)\n",
    "        A2 = A2 / scale2.reshape(1, -1) * scale.reshape(1, -1)\n",
    "        \n",
    "        if verbose:\n",
    "            if i % interval == interval - 1:\n",
    "                rec = torch.einsum('ir,jr->ij',A1,A2)\n",
    "                loss = (torch.norm(rec - T) / torch.norm(T))**2\n",
    "                print ('{}/{}'.format(i, iteration), 'fitness loss:', loss.item())\n",
    "        result = [item.cpu().numpy() for item in [A1, A2]]\n",
    "    return result"
   ]
  },
  {
   "cell_type": "code",
   "execution_count": 56,
   "id": "3db3b0e4",
   "metadata": {},
   "outputs": [
    {
     "name": "stdout",
     "output_type": "stream",
     "text": [
      "9/100 fitness loss: 0.4973050355911255\n",
      "19/100 fitness loss: 0.49582675099372864\n",
      "29/100 fitness loss: 0.49568262696266174\n",
      "39/100 fitness loss: 0.49567878246307373\n",
      "49/100 fitness loss: 0.4957171380519867\n",
      "59/100 fitness loss: 0.4958602488040924\n",
      "69/100 fitness loss: 0.49593085050582886\n",
      "79/100 fitness loss: 0.495942085981369\n",
      "89/100 fitness loss: 0.4959445297718048\n",
      "99/100 fitness loss: 0.49594536423683167\n"
     ]
    }
   ],
   "source": [
    "np.random.seed(100)\n",
    "R = 3\n",
    "\n",
    "# only use the RSV part, scaled by pediatric population\n",
    "rate = bron[:, :, 11] / county_tensor[:, 1].reshape(-1, 1)\n",
    "rate_ = torch.Tensor(rate)\n",
    "result = NTF_2d(rate_, *initialize(rate_, R=R, device='cpu'), reg=1e-1, iteration=100)"
   ]
  },
  {
   "cell_type": "code",
   "execution_count": 59,
   "id": "096ce66e",
   "metadata": {},
   "outputs": [],
   "source": [
    "# this one is just used to change the color order\n",
    "result[1] = np.array(result[1])[:, [0, 2, 1]]"
   ]
  },
  {
   "cell_type": "code",
   "execution_count": 60,
   "id": "36575e99",
   "metadata": {},
   "outputs": [
    {
     "data": {
      "text/plain": [
       "<matplotlib.legend.Legend at 0x7f026438c7f0>"
      ]
     },
     "execution_count": 60,
     "metadata": {},
     "output_type": "execute_result"
    },
    {
     "data": {
      "image/png": "[encoded data removed]",
      "text/plain": [
       "<Figure size 1500x200 with 1 Axes>"
      ]
     },
     "metadata": {},
     "output_type": "display_data"
    }
   ],
   "source": [
    "plt.figure(figsize=(15, 2))\n",
    "for i in range(R):\n",
    "    plt.plot(result[1][:, i], label=f\"Progression Pattern {i+1}\")\n",
    "all_date = [item[:-3] for item in list(date_map.keys())[::7]]\n",
    "plt.xticks(np.arange(len(all_date))[::10], all_date[::10], rotation=30, ha=\"right\")\n",
    "plt.ylabel(\"average RSV rate\")\n",
    "plt.legend(ncols=3)"
   ]
  },
  {
   "cell_type": "markdown",
   "id": "af9f8912",
   "metadata": {},
   "source": [
    "### dump location embedding for prediction"
   ]
  },
  {
   "cell_type": "code",
   "execution_count": 61,
   "id": "9fceb593",
   "metadata": {},
   "outputs": [],
   "source": [
    "# normalize the patterns and let each disease sum up to 1\n",
    "county_tensor_emb = result[0] / result[0].sum(1).reshape(-1, 1)\n",
    "pickle.dump(county_tensor_emb, open(\"../data/county_tensor_emb.pkl\", \"wb\"))"
   ]
  },
  {
   "cell_type": "code",
   "execution_count": null,
   "id": "4c7747f9",
   "metadata": {},
   "outputs": [],
   "source": []
  }
 ],
 "metadata": {
  "kernelspec": {
   "display_name": "Python 3 (ipykernel)",
   "language": "python",
   "name": "python3"
  },
  "language_info": {
   "codemirror_mode": {
    "name": "ipython",
    "version": 3
   },
   "file_extension": ".py",
   "mimetype": "text/x-python",
   "name": "python",
   "nbconvert_exporter": "python",
   "pygments_lexer": "ipython3",
   "version": "3.9.0"
  }
 },
 "nbformat": 4,
 "nbformat_minor": 5
}
